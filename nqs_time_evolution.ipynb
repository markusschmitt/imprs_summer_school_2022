{
 "cells": [
  {
   "cell_type": "markdown",
   "id": "QNFLpVdYqOqZ",
   "metadata": {
    "id": "QNFLpVdYqOqZ"
   },
   "source": [
    "# Simulation of non-equilibrium dynamics with neural quantum states\n",
    "IMPRS Summer School 2022\n",
    "\n",
    "Author: Markus Schmitt"
   ]
  },
  {
   "cell_type": "markdown",
   "id": "-vhoMrtsRBdk",
   "metadata": {
    "id": "-vhoMrtsRBdk"
   },
   "source": [
    "## Install jVMC library\n",
    "\n",
    "In the following we use the [jVMC library](www.github.com/markusschmitt/vmc_jax), which implements all essentials for variational Monte Carlo algorithms with neural quantum states (NQS).\n",
    "\n",
    "The documentation can be found [here](https://jvmc.readthedocs.io/en/latest/index.html) and a description of the codebase is published in [SciPost Codebases](https://scipost.org/SciPostPhysCodeb.2)."
   ]
  },
  {
   "cell_type": "code",
   "execution_count": 1,
   "id": "751470cf",
   "metadata": {
    "colab": {
     "base_uri": "https://localhost:8080/"
    },
    "executionInfo": {
     "elapsed": 3642,
     "status": "ok",
     "timestamp": 1661791070211,
     "user": {
      "displayName": "Markus Schmitt",
      "userId": "08228341589913557167"
     },
     "user_tz": -120
    },
    "id": "751470cf",
    "outputId": "628d2466-ce5d-4895-e731-e6615b8534a4"
   },
   "outputs": [],
   "source": [
    "# !pip install jVMC"
   ]
  },
  {
   "cell_type": "code",
   "execution_count": 2,
   "id": "AM85HS1BqY63",
   "metadata": {
    "executionInfo": {
     "elapsed": 1472,
     "status": "ok",
     "timestamp": 1661791071676,
     "user": {
      "displayName": "Markus Schmitt",
      "userId": "08228341589913557167"
     },
     "user_tz": -120
    },
    "id": "AM85HS1BqY63"
   },
   "outputs": [
    {
     "name": "stderr",
     "output_type": "stream",
     "text": [
      "/opt/homebrew/Caskroom/miniconda/base/envs/imprs_school/lib/python3.10/site-packages/jax/_src/lib/__init__.py:34: UserWarning: JAX on Mac ARM machines is experimental and minimally tested. Please see https://github.com/google/jax/issues/5501 in the event of problems.\n",
      "  warnings.warn(\"JAX on Mac ARM machines is experimental and minimally tested. \"\n",
      "WARNING:absl:No GPU/TPU found, falling back to CPU. (Set TF_CPP_MIN_LOG_LEVEL=0 and rerun for more info.)\n"
     ]
    }
   ],
   "source": [
    "import jVMC\n",
    "\n",
    "import numpy as np\n",
    "import matplotlib.pyplot as plt\n",
    "\n",
    "from functools import partial\n",
    "import pickle"
   ]
  },
  {
   "cell_type": "markdown",
   "id": "GlqcbTocGA58",
   "metadata": {
    "id": "GlqcbTocGA58"
   },
   "source": [
    "## Helper functions\n",
    "\n",
    "Here we define some helper functions that will be used below."
   ]
  },
  {
   "cell_type": "code",
   "execution_count": 3,
   "id": "775148c4",
   "metadata": {
    "executionInfo": {
     "elapsed": 9,
     "status": "ok",
     "timestamp": 1661791071676,
     "user": {
      "displayName": "Markus Schmitt",
      "userId": "08228341589913557167"
     },
     "user_tz": -120
    },
    "id": "775148c4"
   },
   "outputs": [],
   "source": [
    "# Some helper functions\n",
    "\n",
    "def norm_fun(v, df=lambda x: x):\n",
    "    return jnp.real(jnp.conj(jnp.transpose(v)).dot(df(v)))\n",
    "\n",
    "def save_to_disk(data, fn=\"\"):\n",
    "    with open(fn+\"L=\"+str(L)+\"_g=\"+str(g)+\"_h=\"+str(h)+\".pkl\", 'wb') as f:\n",
    "        pickle.dump(data, f)\n",
    "        \n",
    "def load_from_disk(fn=\"\"):\n",
    "    with open(fn+\"L=\"+str(L)+\"_g=\"+str(g)+\"_h=\"+str(h)+\".pkl\", 'rb') as f:\n",
    "        loaded_data = pickle.load(f)\n",
    "    return loaded_data\n",
    "\n",
    "\n",
    "def plot_observables(fn=\"\"):\n",
    "\n",
    "    loaded_data = load_from_disk(fn)\n",
    "    \n",
    "    obs_data = np.array(loaded_data[\"observables\"])\n",
    "    plt.plot(obs_data[:,0], obs_data[:,2])\n",
    "    \n",
    "    \n",
    "def plot_parameters(fn=\"\"):\n",
    "    \n",
    "    param_data = load_from_disk(fn)[\"parameters\"]\n",
    "\n",
    "    n_hidden = param_data[0][\"L1\"][\"kernel\"].shape[1]\n",
    "    n_hidden = 5\n",
    "\n",
    "    fig, ax = plt.subplots(n_hidden, figsize=(10,8), sharex=True)\n",
    "\n",
    "    for k in range(n_hidden):\n",
    "\n",
    "        D = np.concatenate([np.reshape( np.array(p[\"L1\"][\"kernel\"][:,k]), (1,-1) ) for p in param_data])\n",
    "\n",
    "        ax[k].imshow(np.abs(np.transpose(D[::5,:])))\n",
    "        ax[k].set_ylabel(\"Phys. site\")\n",
    "    \n",
    "    ax[-1].set_xlabel(\"Time step\")\n",
    "    plt.tight_layout()\n",
    "    \n",
    "    \n",
    "def plot_gradient(grads):\n",
    "\n",
    "    grads = np.array(grads)\n",
    "    \n",
    "    fig, ax = plt.subplots(figsize=(12,4))\n",
    "\n",
    "    ax.plot(np.real(grads[0,0,:]), '-o', label=\"real part\", linewidth=0.8, markersize=4)\n",
    "    ax.plot(np.imag(grads[0,0,:]), '-o', label=\"imaginary part\", linewidth=0.8, markersize=4)\n",
    "    ax.set_xlabel(r\"Parameter index $k$\", fontsize=20)\n",
    "    ax.set_ylabel(r\"$\\frac{\\partial}{\\partial\\theta_k}\\log\\psi_\\theta(s)$\", fontsize=20)\n",
    "\n",
    "    plt.legend()\n",
    "    plt.tight_layout()\n",
    "    \n",
    "    \n",
    "def plot_coeffs(coeffs):\n",
    "    \n",
    "    fig = plt.figure(figsize=(5, 5))\n",
    "    ax = fig.add_axes([0.1, 0.1, 0.8, 0.8], polar=True)\n",
    "\n",
    "    for c in coeffs[0]:\n",
    "        ax.scatter(np.imag(c),np.real(c)/np.log(10))\n",
    "\n",
    "        \n",
    "    ax.set_title(\"Polar plot of wave function coefficients\")\n",
    "    plt.show()\n",
    "    \n",
    "\n",
    "from jVMC.util import ground_state_search\n",
    "def initialize_in_X_state(psi):\n",
    "    \n",
    "    H_init = BranchFreeOperator()\n",
    "\n",
    "    for l in range(L):\n",
    "        H_init.add( scal_opstr(-1.0, (Sx(l),)) )  # - Sx(l)\n",
    "\n",
    "    gsEquation = TDVP(sampler, svdTol=1e-8, rhsPrefactor=1.0, makeReal='real', diagonalShift=10)\n",
    "\n",
    "    ground_state_search(psi, H_init, gsEquation, sampler, numSteps=150)"
   ]
  },
  {
   "cell_type": "markdown",
   "id": "46646a89",
   "metadata": {
    "id": "46646a89"
   },
   "source": [
    "## Fix a system size"
   ]
  },
  {
   "cell_type": "code",
   "execution_count": 4,
   "id": "99c79236",
   "metadata": {
    "executionInfo": {
     "elapsed": 7,
     "status": "ok",
     "timestamp": 1661791071677,
     "user": {
      "displayName": "Markus Schmitt",
      "userId": "08228341589913557167"
     },
     "user_tz": -120
    },
    "id": "99c79236"
   },
   "outputs": [],
   "source": [
    "L = 8"
   ]
  },
  {
   "cell_type": "markdown",
   "id": "11b35e7c",
   "metadata": {
    "id": "11b35e7c"
   },
   "source": [
    "## Define a neural network\n",
    "\n",
    "We define a single-layer feed-forward neural network with the following architecture:\n",
    "\n",
    "<img src=\"./figures/notebook_ffn.png\" width=400 />\n",
    "\n",
    "\n",
    "The network has real weights and *two real-valued outputs*, which will be interpreted as the *real and imaginary parts* of the logarithmic wave function amplitude $\\log\\psi_\\theta(s)$.\n",
    "\n",
    "For [visualization](http://alexlenail.me/NN-SVG/index.html)"
   ]
  },
  {
   "cell_type": "code",
   "execution_count": 5,
   "id": "c056eca3",
   "metadata": {
    "executionInfo": {
     "elapsed": 6,
     "status": "ok",
     "timestamp": 1661791071677,
     "user": {
      "displayName": "Markus Schmitt",
      "userId": "08228341589913557167"
     },
     "user_tz": -120
    },
    "id": "c056eca3"
   },
   "outputs": [],
   "source": [
    "import flax\n",
    "import flax.linen as nn\n",
    "\n",
    "class MyNet(nn.Module):\n",
    "    width: int = 20\n",
    "        \n",
    "    def setup(self):\n",
    "        \n",
    "        self.L1 = nn.Dense(self.width, \n",
    "                         use_bias=True,\n",
    "                         dtype=jVMC.global_defs.tReal\n",
    "                        )\n",
    "        \n",
    "        self.L2 = nn.Dense(2, \n",
    "                 use_bias=True,\n",
    "                 dtype=jVMC.global_defs.tReal\n",
    "                )\n",
    "        \n",
    "    def __call__(self, s):\n",
    "        \n",
    "        hidden = nn.elu( self.L1(s) )\n",
    "        \n",
    "        output = self.L2(hidden)\n",
    "        \n",
    "        return output[0] + 1.j*output[1]"
   ]
  },
  {
   "cell_type": "markdown",
   "id": "f4e74386",
   "metadata": {
    "id": "f4e74386"
   },
   "source": [
    "## Initialize a neural quantum state\n",
    "\n",
    "Initialize an instance of the [NQS class](https://jvmc.readthedocs.io/en/latest/vqs.html#jVMC.vqs.NQS) from the jVMC library using our custom ANN architecture from above with a given `width`."
   ]
  },
  {
   "cell_type": "code",
   "execution_count": 6,
   "id": "b3bd2fb5",
   "metadata": {
    "executionInfo": {
     "elapsed": 5,
     "status": "ok",
     "timestamp": 1661791071677,
     "user": {
      "displayName": "Markus Schmitt",
      "userId": "08228341589913557167"
     },
     "user_tz": -120
    },
    "id": "b3bd2fb5"
   },
   "outputs": [],
   "source": [
    "from jVMC.vqs import NQS\n",
    "from jVMC.nets.activation_functions import poly5, poly6\n",
    "\n",
    "# Note: perfect result for width=70\n",
    "\n",
    "width = 70\n",
    "psi = NQS(MyNet(width=width))\n",
    "#psi = NQS(jVMC.nets.CpxCNN(F=(L,), channels=(6,4), actFun=(poly6,poly5), firstLayerBias=True), batchSize=2**L)"
   ]
  },
  {
   "cell_type": "markdown",
   "id": "O32ReMB3h_yL",
   "metadata": {
    "id": "O32ReMB3h_yL"
   },
   "source": [
    "Next, we create a generic computational basis state to test the evaluation of the NQS.\n",
    "\n",
    "In the follwing we will work with spin-1/2 degrees of freedom, meaning that the computational basis states are bit-strings."
   ]
  },
  {
   "cell_type": "code",
   "execution_count": 7,
   "id": "2d1e1cc3",
   "metadata": {
    "colab": {
     "base_uri": "https://localhost:8080/"
    },
    "executionInfo": {
     "elapsed": 1383,
     "status": "ok",
     "timestamp": 1661791073055,
     "user": {
      "displayName": "Markus Schmitt",
      "userId": "08228341589913557167"
     },
     "user_tz": -120
    },
    "id": "2d1e1cc3",
    "outputId": "31f31572-4270-4432-d92a-f95f34b5be0d"
   },
   "outputs": [
    {
     "name": "stdout",
     "output_type": "stream",
     "text": [
      "[[[1 1 0 1 1 1 0 1]]]\n"
     ]
    }
   ],
   "source": [
    "import jax.numpy as jnp\n",
    "import jax.random\n",
    "\n",
    "# Get a random configuration\n",
    "s = 1*jax.random.bernoulli(jax.random.PRNGKey(1234), shape=(1,1,L))\n",
    "\n",
    "print(s)"
   ]
  },
  {
   "cell_type": "code",
   "execution_count": 8,
   "id": "aba62bf2",
   "metadata": {
    "colab": {
     "base_uri": "https://localhost:8080/",
     "height": 368
    },
    "executionInfo": {
     "elapsed": 6597,
     "status": "ok",
     "timestamp": 1661791079649,
     "user": {
      "displayName": "Markus Schmitt",
      "userId": "08228341589913557167"
     },
     "user_tz": -120
    },
    "id": "aba62bf2",
    "outputId": "64285c99-29e4-49d7-ba7e-5f8a7faed352"
   },
   "outputs": [
    {
     "data": {
      "image/png": "[encoded data removed]",
      "text/plain": [
       "<Figure size 360x360 with 1 Axes>"
      ]
     },
     "metadata": {
      "needs_background": "light"
     },
     "output_type": "display_data"
    }
   ],
   "source": [
    "# Evaluate the NQS\n",
    "coeff = psi(s)\n",
    "\n",
    "plot_coeffs(coeff)"
   ]
  },
  {
   "cell_type": "markdown",
   "id": "8c7821a4",
   "metadata": {
    "id": "8c7821a4"
   },
   "source": [
    "Let's check how many parameters we have in our NQS ansatz:"
   ]
  },
  {
   "cell_type": "code",
   "execution_count": 9,
   "id": "910ddeac",
   "metadata": {
    "colab": {
     "base_uri": "https://localhost:8080/"
    },
    "executionInfo": {
     "elapsed": 9,
     "status": "ok",
     "timestamp": 1661791081096,
     "user": {
      "displayName": "Markus Schmitt",
      "userId": "08228341589913557167"
     },
     "user_tz": -120
    },
    "id": "910ddeac",
    "outputId": "c8bd0891-777a-4a6c-c494-56d6032abaa3"
   },
   "outputs": [
    {
     "data": {
      "text/plain": [
       "(772,)"
      ]
     },
     "execution_count": 9,
     "metadata": {},
     "output_type": "execute_result"
    }
   ],
   "source": [
    "psi.get_parameters().shape"
   ]
  },
  {
   "cell_type": "markdown",
   "id": "hCjb174HiKQZ",
   "metadata": {
    "id": "hCjb174HiKQZ"
   },
   "source": [
    "### Batched evaluation\n",
    "\n",
    "The NQS class supports batched network evaluations on multiple input configurations, which is crutial for performance."
   ]
  },
  {
   "cell_type": "code",
   "execution_count": 10,
   "id": "aa94dda3",
   "metadata": {
    "colab": {
     "base_uri": "https://localhost:8080/"
    },
    "executionInfo": {
     "elapsed": 9,
     "status": "ok",
     "timestamp": 1661791079649,
     "user": {
      "displayName": "Markus Schmitt",
      "userId": "08228341589913557167"
     },
     "user_tz": -120
    },
    "id": "aa94dda3",
    "outputId": "6982cfee-d019-4568-c511-2d3b11757b4e"
   },
   "outputs": [
    {
     "name": "stdout",
     "output_type": "stream",
     "text": [
      "[[[0 1 0 1 0 1 0 1]\n",
      "  [0 0 1 0 1 1 0 1]\n",
      "  [1 1 0 1 1 0 1 1]\n",
      "  [1 1 1 0 1 1 0 0]\n",
      "  [0 1 1 1 0 1 0 0]\n",
      "  [1 0 1 1 0 0 1 0]\n",
      "  [1 1 0 1 1 1 1 0]\n",
      "  [0 0 1 1 1 0 0 1]\n",
      "  [1 1 1 0 1 0 0 0]\n",
      "  [1 0 0 0 1 1 0 1]\n",
      "  [1 0 0 0 0 1 0 0]\n",
      "  [1 0 1 1 0 1 0 0]\n",
      "  [1 1 0 0 0 1 0 1]]]\n"
     ]
    }
   ],
   "source": [
    "# Get a batch of random configurations\n",
    "s_batch = 1*jax.random.bernoulli(jax.random.PRNGKey(1234), shape=(1,13,L))\n",
    "\n",
    "print(s_batch)"
   ]
  },
  {
   "cell_type": "code",
   "execution_count": 11,
   "id": "de0605db",
   "metadata": {
    "colab": {
     "base_uri": "https://localhost:8080/",
     "height": 368
    },
    "executionInfo": {
     "elapsed": 1450,
     "status": "ok",
     "timestamp": 1661791081095,
     "user": {
      "displayName": "Markus Schmitt",
      "userId": "08228341589913557167"
     },
     "user_tz": -120
    },
    "id": "de0605db",
    "outputId": "9ecd57f4-e6f3-4896-a8c1-2224a5000827",
    "scrolled": false
   },
   "outputs": [
    {
     "data": {
      "image/png": "[encoded data removed]",
      "text/plain": [
       "<Figure size 360x360 with 1 Axes>"
      ]
     },
     "metadata": {
      "needs_background": "light"
     },
     "output_type": "display_data"
    }
   ],
   "source": [
    "# Evaluate the NQS\n",
    "coeffs = psi(s_batch)\n",
    "\n",
    "plot_coeffs(coeffs)"
   ]
  },
  {
   "cell_type": "markdown",
   "id": "9a182f8d",
   "metadata": {
    "id": "9a182f8d"
   },
   "source": [
    "## Operators: Set up observables\n",
    "\n",
    "The [BranchFreeOperator class](https://jvmc.readthedocs.io/en/latest/operator.html#branch-free-operator-class) can be used to create physical operators."
   ]
  },
  {
   "cell_type": "code",
   "execution_count": 12,
   "id": "b7b81723",
   "metadata": {
    "executionInfo": {
     "elapsed": 5,
     "status": "ok",
     "timestamp": 1661791081096,
     "user": {
      "displayName": "Markus Schmitt",
      "userId": "08228341589913557167"
     },
     "user_tz": -120
    },
    "id": "b7b81723"
   },
   "outputs": [],
   "source": [
    "from jVMC.operator import BranchFreeOperator\n",
    "from jVMC.operator import Sz, Sx\n",
    "from jVMC.operator import scal_opstr"
   ]
  },
  {
   "cell_type": "markdown",
   "id": "yMlfggy_jZTx",
   "metadata": {
    "id": "yMlfggy_jZTx"
   },
   "source": [
    "Let's create an operator that measures the polarization in the $x$-direction normalized by system size:\n",
    "\n",
    "$$\\hat X=\\frac{1}{L}\\sum_{l=1}^L\\hat\\sigma_l^x$$"
   ]
  },
  {
   "cell_type": "code",
   "execution_count": 13,
   "id": "825bba7c",
   "metadata": {
    "executionInfo": {
     "elapsed": 4,
     "status": "ok",
     "timestamp": 1661791081096,
     "user": {
      "displayName": "Markus Schmitt",
      "userId": "08228341589913557167"
     },
     "user_tz": -120
    },
    "id": "825bba7c"
   },
   "outputs": [],
   "source": [
    "X = BranchFreeOperator()\n",
    "for l in range(L):\n",
    "    X.add( scal_opstr(1. / L, (Sx(l), )) )"
   ]
  },
  {
   "cell_type": "markdown",
   "id": "XlCh9d1MkK0y",
   "metadata": {
    "id": "XlCh9d1MkK0y"
   },
   "source": [
    "The `BranchFreeOperator` class implements the computation of non-zero matrix elements of the operator for a given input configuration:"
   ]
  },
  {
   "cell_type": "code",
   "execution_count": 14,
   "id": "3234ff4c",
   "metadata": {
    "colab": {
     "base_uri": "https://localhost:8080/"
    },
    "executionInfo": {
     "elapsed": 206,
     "status": "ok",
     "timestamp": 1661794492012,
     "user": {
      "displayName": "Markus Schmitt",
      "userId": "08228341589913557167"
     },
     "user_tz": -120
    },
    "id": "3234ff4c",
    "outputId": "2d1a11c2-208b-4eea-8ad5-04c73ad2bc79"
   },
   "outputs": [
    {
     "name": "stdout",
     "output_type": "stream",
     "text": [
      "Input configuration: [[[0 0 0 0 0 0 0 0]]]\n",
      "\n",
      "s_primes:\n",
      " [[[1 0 0 0 0 0 0 0]\n",
      "  [0 1 0 0 0 0 0 0]\n",
      "  [0 0 1 0 0 0 0 0]\n",
      "  [0 0 0 1 0 0 0 0]\n",
      "  [0 0 0 0 1 0 0 0]\n",
      "  [0 0 0 0 0 1 0 0]\n",
      "  [0 0 0 0 0 0 1 0]\n",
      "  [0 0 0 0 0 0 0 1]]]\n",
      "\n",
      "matrix_elements:\n",
      " [[[0.125+0.j 0.125+0.j 0.125+0.j 0.125+0.j 0.125+0.j 0.125+0.j 0.125+0.j\n",
      "   0.125+0.j]]]\n"
     ]
    }
   ],
   "source": [
    "# Create input configuration (all spins down)\n",
    "s1 = jax.numpy.zeros((1,1,L), dtype=np.int32)\n",
    "\n",
    "# Compute non-zero matrix elements\n",
    "s_primes, matrix_elements = X.get_s_primes(s1)\n",
    "\n",
    "print(\"Input configuration:\", s1)\n",
    "print()\n",
    "print(\"s_primes:\\n\", s_primes)\n",
    "print()\n",
    "print(\"matrix_elements:\\n\", matrix_elements)"
   ]
  },
  {
   "cell_type": "markdown",
   "id": "h1kHc49Okwhp",
   "metadata": {
    "id": "h1kHc49Okwhp"
   },
   "source": [
    "Below we will use this dictionary of observables for measurements."
   ]
  },
  {
   "cell_type": "code",
   "execution_count": 15,
   "id": "43d98b64",
   "metadata": {
    "executionInfo": {
     "elapsed": 5,
     "status": "ok",
     "timestamp": 1661791083203,
     "user": {
      "displayName": "Markus Schmitt",
      "userId": "08228341589913557167"
     },
     "user_tz": -120
    },
    "id": "43d98b64"
   },
   "outputs": [],
   "source": [
    "observables = {\n",
    "    \"X\": X\n",
    "}"
   ]
  },
  {
   "cell_type": "markdown",
   "id": "7de89b91",
   "metadata": {
    "id": "7de89b91"
   },
   "source": [
    "## Measuring expectation values: sampling\n",
    "\n",
    "The [MCSampler class](https://jvmc.readthedocs.io/en/latest/sampler.html#jVMC.sampler.MCSampler) implements Monte Carlo sampling from the given NQS."
   ]
  },
  {
   "cell_type": "code",
   "execution_count": 16,
   "id": "b7e7efa7",
   "metadata": {
    "executionInfo": {
     "elapsed": 1297,
     "status": "ok",
     "timestamp": 1661791084496,
     "user": {
      "displayName": "Markus Schmitt",
      "userId": "08228341589913557167"
     },
     "user_tz": -120
    },
    "id": "b7e7efa7"
   },
   "outputs": [],
   "source": [
    "from jVMC.sampler import MCSampler\n",
    "\n",
    "mc_sampler = MCSampler(psi, (L,), 1234, updateProposer=jVMC.sampler.propose_spin_flip)"
   ]
  },
  {
   "cell_type": "markdown",
   "id": "_T95J2PdlLEx",
   "metadata": {
    "id": "_T95J2PdlLEx"
   },
   "source": [
    "Generate `numSamples` samples."
   ]
  },
  {
   "cell_type": "code",
   "execution_count": 17,
   "id": "4958a7e7",
   "metadata": {
    "colab": {
     "base_uri": "https://localhost:8080/"
    },
    "executionInfo": {
     "elapsed": 2411,
     "status": "ok",
     "timestamp": 1661793043412,
     "user": {
      "displayName": "Markus Schmitt",
      "userId": "08228341589913557167"
     },
     "user_tz": -120
    },
    "id": "4958a7e7",
    "outputId": "d57908a8-685f-4a57-efe3-d56b259d4416"
   },
   "outputs": [
    {
     "name": "stdout",
     "output_type": "stream",
     "text": [
      "Sampled configurations:\n",
      " [[[0 0 0 0 1 1 0 1]\n",
      "  [0 1 1 1 1 0 0 0]\n",
      "  [1 1 0 0 1 0 0 0]\n",
      "  [1 1 1 0 1 1 0 1]\n",
      "  [1 0 1 0 0 1 0 0]\n",
      "  [1 0 1 0 1 1 0 0]\n",
      "  [1 1 1 0 0 1 1 1]\n",
      "  [0 0 0 0 1 1 1 1]\n",
      "  [1 0 0 1 0 0 0 0]\n",
      "  [1 1 0 1 0 0 0 0]]]\n",
      "\n",
      "Corresponding (log.) wave function coefficients:\n",
      " [[ 0.05239174-9.24646433e-01j  0.1892381 +2.75896435e-01j\n",
      "   0.45591612-7.11979215e-04j  0.5114704 -2.41984273e-01j\n",
      "   0.75208627+1.73428944e-01j  0.73408394-4.95823282e-01j\n",
      "   0.00251713+7.72198383e-02j -0.37526863-1.14500893e+00j\n",
      "   0.39966146+2.04351030e-03j  0.41050793+5.75771000e-01j]]\n"
     ]
    }
   ],
   "source": [
    "configs, coeffs, _ = mc_sampler.sample(numSamples=10)\n",
    "\n",
    "print(\"Sampled configurations:\\n\", configs)\n",
    "print()\n",
    "print(\"Corresponding (log.) wave function coefficients:\\n\", coeffs)"
   ]
  },
  {
   "cell_type": "markdown",
   "id": "YdVUcFfGlgJf",
   "metadata": {
    "id": "YdVUcFfGlgJf"
   },
   "source": [
    "Using the `MCSampler` we can now estimate the quantum expectation value\n",
    "\n",
    "$$\\langle\\psi_\\theta|\\hat X|\\psi_\\theta\\rangle=\\sum_s\\frac{|\\psi_\\theta(s)|^2}{\\langle\\psi_\\theta|\\psi_\\theta\\rangle}\\sum_{s'}X_{s,s'}\\frac{\\psi_\\theta(s')}{\\psi_\\theta(s)}$$\n",
    "\n",
    "This is implemented in the utility function [measure](https://jvmc.readthedocs.io/en/latest/util.html#jVMC.util.util.measure)."
   ]
  },
  {
   "cell_type": "code",
   "execution_count": 18,
   "id": "4cd1337c",
   "metadata": {
    "executionInfo": {
     "elapsed": 8959,
     "status": "ok",
     "timestamp": 1661791097215,
     "user": {
      "displayName": "Markus Schmitt",
      "userId": "08228341589913557167"
     },
     "user_tz": -120
    },
    "id": "4cd1337c"
   },
   "outputs": [
    {
     "name": "stdout",
     "output_type": "stream",
     "text": [
      "Expectation value of X: 0.903+/-0.014\n",
      "Variance of X: 0.020\n"
     ]
    }
   ],
   "source": [
    "from jVMC.util import measure\n",
    "\n",
    "# measure expectation value of observables contained in the dictionary from above\n",
    "# using the given NQS and sampler.\n",
    "obs = measure(observables, psi, mc_sampler)\n",
    "\n",
    "print(\"Expectation value of X: %.3f+/-%.3f\" % (obs[\"X\"][\"mean\"], obs[\"X\"][\"MC_error\"]))\n",
    "print(\"Variance of X: %.3f\" % (obs[\"X\"][\"variance\"]))"
   ]
  },
  {
   "cell_type": "markdown",
   "id": "e7dc2046",
   "metadata": {
    "id": "e7dc2046"
   },
   "source": [
    "## Computing gradients\n",
    "\n",
    "The `NQS` class provides a member function to compute the gradient of the (logarithmic) wave function,\n",
    "\n",
    "$$O_k(s)=\\frac{\\partial}{\\partial\\theta_k}\\log\\psi_\\theta(s)$$"
   ]
  },
  {
   "cell_type": "code",
   "execution_count": 19,
   "id": "b35ac20a",
   "metadata": {
    "colab": {
     "base_uri": "https://localhost:8080/",
     "height": 297
    },
    "executionInfo": {
     "elapsed": 1710,
     "status": "ok",
     "timestamp": 1661791098921,
     "user": {
      "displayName": "Markus Schmitt",
      "userId": "08228341589913557167"
     },
     "user_tz": -120
    },
    "id": "b35ac20a",
    "outputId": "34297eac-fc95-410b-de4d-aa954c8260a0"
   },
   "outputs": [
    {
     "data": {
      "image/png": "[encoded data removed]",
      "text/plain": [
       "<Figure size 864x288 with 1 Axes>"
      ]
     },
     "metadata": {
      "needs_background": "light"
     },
     "output_type": "display_data"
    }
   ],
   "source": [
    "grads = psi.gradients(s)\n",
    "\n",
    "plot_gradient(grads)"
   ]
  },
  {
   "cell_type": "markdown",
   "id": "a8fec9fb",
   "metadata": {
    "id": "a8fec9fb"
   },
   "source": [
    "## Create a Hamiltonian\n",
    "\n",
    "In the following we will be interested in the one-dimensional quantum Ising model:\n",
    "\n",
    "$$\\hat H=-\\sum_{l=1}^L\\hat\\sigma_l^x\\hat\\sigma_{l+1}^x - g\\sum_{l=1}^L\\hat\\sigma_l^z  - h\\sum_{l=1}^L\\hat\\sigma_l^x $$"
   ]
  },
  {
   "cell_type": "code",
   "execution_count": 20,
   "id": "3c8e5687",
   "metadata": {
    "executionInfo": {
     "elapsed": 10,
     "status": "ok",
     "timestamp": 1661791098922,
     "user": {
      "displayName": "Markus Schmitt",
      "userId": "08228341589913557167"
     },
     "user_tz": -120
    },
    "id": "3c8e5687"
   },
   "outputs": [],
   "source": [
    "g = 0.3\n",
    "h = 0.25\n",
    "\n",
    "H = BranchFreeOperator()\n",
    "\n",
    "for l in range(L):\n",
    "    H.add( scal_opstr(-1.0, (Sx(l), Sx((l+1)%L))) )    # - Sz(l) Sz(l+1)\n",
    "    H.add( scal_opstr(-h, (Sx(l),)) )                  # -h Sx(l)\n",
    "    H.add( scal_opstr(-g, (Sz(l),)) )                  # -g Sz(l)"
   ]
  },
  {
   "cell_type": "code",
   "execution_count": 21,
   "id": "9c4b9eaa",
   "metadata": {
    "executionInfo": {
     "elapsed": 6,
     "status": "ok",
     "timestamp": 1661791098922,
     "user": {
      "displayName": "Markus Schmitt",
      "userId": "08228341589913557167"
     },
     "user_tz": -120
    },
    "id": "9c4b9eaa"
   },
   "outputs": [],
   "source": [
    "observables[\"energy\"] = H"
   ]
  },
  {
   "cell_type": "markdown",
   "id": "2c9242a6",
   "metadata": {
    "id": "2c9242a6"
   },
   "source": [
    "## Set up the time-dependent variational principle (TDVP)\n",
    "\n",
    "The [TDVP class](https://jvmc.readthedocs.io/en/latest/util/tdvp.html#jVMC.util.tdvp.TDVP) from the utilities implements the TDVP time step. It will be used to determine the parameter update $\\dot\\theta$ using the TDVP equation\n",
    "\n",
    "$$S_{k,k'}\\dot\\theta_{k'}=-iF_k$$."
   ]
  },
  {
   "cell_type": "code",
   "execution_count": 22,
   "id": "d84d3635",
   "metadata": {
    "executionInfo": {
     "elapsed": 1046,
     "status": "ok",
     "timestamp": 1661791099964,
     "user": {
      "displayName": "Markus Schmitt",
      "userId": "08228341589913557167"
     },
     "user_tz": -120
    },
    "id": "d84d3635"
   },
   "outputs": [],
   "source": [
    "from jVMC.util import TDVP\n",
    "\n",
    "# Use exact sampler for demonstration purposes\n",
    "from jVMC.sampler import ExactSampler\n",
    "sampler = ExactSampler(psi, L)\n",
    "\n",
    "tdvpEquation = TDVP(sampler, \n",
    "                    svdTol=1e-8,\n",
    "                    rhsPrefactor=1.j,\n",
    "                    makeReal='imag'\n",
    "                   )"
   ]
  },
  {
   "cell_type": "markdown",
   "id": "1f27fc44",
   "metadata": {
    "id": "1f27fc44"
   },
   "source": [
    "## Initial ground state search\n",
    "\n",
    "The dynamics of the quantum Ising model in the ferromagnetic phase with non-vanishing longitudinal field exhibits signatures of confinement when initialized in a longitudinally polarized state, see [Kormos et al., Nat. Phys (2017)](https://www.nature.com/articles/nphys3934).\n",
    "\n",
    "Therefore, we want to initialize the system in the state\n",
    "\n",
    "$$|\\psi_0\\rangle=\\bigotimes_l|\\rightarrow\\rangle_l$$\n",
    "\n",
    "This is achieved by a ground state search with the Hamiltonian $\\hat H_{GS}=-\\sum_l\\hat\\sigma_l^x$.\n",
    "\n",
    "(Notice that in the Hamiltonian above we defined the $x$-direction as the Ising axis.)"
   ]
  },
  {
   "cell_type": "code",
   "execution_count": 23,
   "id": "8ed52075",
   "metadata": {
    "executionInfo": {
     "elapsed": 21284,
     "status": "ok",
     "timestamp": 1661791121240,
     "user": {
      "displayName": "Markus Schmitt",
      "userId": "08228341589913557167"
     },
     "user_tz": -120
    },
    "id": "8ed52075"
   },
   "outputs": [],
   "source": [
    "initialize_in_X_state(psi)"
   ]
  },
  {
   "cell_type": "markdown",
   "id": "6ff4571d",
   "metadata": {
    "id": "6ff4571d"
   },
   "source": [
    "## Compute time evolution\n",
    "\n",
    "Now we are ready to run the simulation."
   ]
  },
  {
   "cell_type": "code",
   "execution_count": null,
   "id": "0152d552",
   "metadata": {
    "colab": {
     "base_uri": "https://localhost:8080/"
    },
    "executionInfo": {
     "elapsed": 214723,
     "status": "ok",
     "timestamp": 1661791335955,
     "user": {
      "displayName": "Markus Schmitt",
      "userId": "08228341589913557167"
     },
     "user_tz": -120
    },
    "id": "0152d552",
    "outputId": "3cf49bcf-df77-4ea7-c133-c27498188655"
   },
   "outputs": [],
   "source": [
    "import time\n",
    "\n",
    "from IPython.display import clear_output\n",
    "\n",
    "t = 0.0    # Initial time\n",
    "dt = 1e-3  # Initial time step\n",
    "tmax = 4.0 # Total time\n",
    "\n",
    "# Initialize an adaptive ODE integrator\n",
    "stepper = jVMC.util.stepper.AdaptiveHeun(timeStep=dt, tol=1e-4)\n",
    "\n",
    "# Measure observables\n",
    "obs = measure(observables, psi, sampler)\n",
    "data = {\"parameters\": [], \"observables\": []}\n",
    "data[\"observables\"].append([t, obs[\"energy\"][\"mean\"][0], obs[\"X\"][\"mean\"][0]])\n",
    "data[\"parameters\"].append(psi.params.unfreeze())\n",
    "\n",
    "save_to_disk(data, fn=\"ffn_width=\"+str(width)+\"_\")\n",
    "\n",
    "while t < tmax:\n",
    "    tic = time.perf_counter()\n",
    "\n",
    "    # TDVP step\n",
    "    dp, dt = stepper.step(t,                      # current time\n",
    "                          tdvpEquation,           # TDVP object\n",
    "                          psi.get_parameters(),   # current network parameters\n",
    "                          hamiltonian=H,          # Hamiltonian operator\n",
    "                          psi=psi,                # NQS object\n",
    "                          normFunction=partial(norm_fun, df=tdvpEquation.S_dot)\n",
    "                                                  # Norm for adaptive time step\n",
    "                         )\n",
    "    psi.set_parameters(dp)\n",
    "    t += dt\n",
    "    \n",
    "    # Measure observables\n",
    "    obs = measure(observables, psi, sampler)\n",
    "    data[\"observables\"].append([t, obs[\"energy\"][\"mean\"][0], obs[\"X\"][\"mean\"][0]])\n",
    "    data[\"parameters\"].append(psi.params.unfreeze())\n",
    "    \n",
    "    # Write some meta info to screen\n",
    "    clear_output(wait=False)\n",
    "    print(\">> t = %f\\n\" % (t))\n",
    "    print(\"   Time step size: dt = %.2e\" % (dt))\n",
    "    tdvpErr, tdvpRes = tdvpEquation.get_residuals()\n",
    "    print(\"   Residuals :               TDVP error = %.2e\" % (tdvpErr))\n",
    "    print(\"               Linear equation residual = %.2e\" % (tdvpRes))\n",
    "    print(\"      Energy : %f +/- %f\" % (obs[\"energy\"][\"mean\"], obs[\"energy\"][\"MC_error\"]))\n",
    "    toc = time.perf_counter()\n",
    "    print(\"== Total time for this step: %fs\\n\" % (toc - tic))\n",
    "    \n",
    "save_to_disk(data, fn=\"ffn_width=\"+str(width)+\"_\")"
   ]
  },
  {
   "cell_type": "code",
   "execution_count": null,
   "id": "798ab015",
   "metadata": {
    "colab": {
     "base_uri": "https://localhost:8080/",
     "height": 265
    },
    "executionInfo": {
     "elapsed": 791,
     "status": "ok",
     "timestamp": 1661791336741,
     "user": {
      "displayName": "Markus Schmitt",
      "userId": "08228341589913557167"
     },
     "user_tz": -120
    },
    "id": "798ab015",
    "outputId": "c7a1c314-b302-4dcc-dc57-5daebbc3aeaa"
   },
   "outputs": [],
   "source": [
    "plot_observables(fn=\"ffn_width=\"+str(width)+\"_\")"
   ]
  },
  {
   "cell_type": "code",
   "execution_count": null,
   "id": "1459672f",
   "metadata": {
    "colab": {
     "base_uri": "https://localhost:8080/",
     "height": 585
    },
    "executionInfo": {
     "elapsed": 3193,
     "status": "ok",
     "timestamp": 1661791339929,
     "user": {
      "displayName": "Markus Schmitt",
      "userId": "08228341589913557167"
     },
     "user_tz": -120
    },
    "id": "1459672f",
    "outputId": "815cb92a-cb28-4c03-a802-5748cac0ca7c"
   },
   "outputs": [],
   "source": [
    "plot_parameters(fn=\"ffn_width=\"+str(width)+\"_\")"
   ]
  },
  {
   "cell_type": "code",
   "execution_count": null,
   "id": "bcbe11d8",
   "metadata": {
    "colab": {
     "base_uri": "https://localhost:8080/"
    },
    "executionInfo": {
     "elapsed": 627,
     "status": "ok",
     "timestamp": 1661851690764,
     "user": {
      "displayName": "Markus Schmitt",
      "userId": "08228341589913557167"
     },
     "user_tz": -120
    },
    "id": "bcbe11d8",
    "outputId": "6dfbd6df-f9b0-488b-b001-4d131ea8e8d9"
   },
   "outputs": [],
   "source": [
    "!ls"
   ]
  }
 ],
 "metadata": {
  "accelerator": "GPU",
  "colab": {
   "collapsed_sections": [
    "-vhoMrtsRBdk",
    "GlqcbTocGA58",
    "11b35e7c",
    "f4e74386",
    "hCjb174HiKQZ",
    "9a182f8d",
    "7de89b91",
    "e7dc2046",
    "a8fec9fb",
    "2c9242a6",
    "1f27fc44"
   ],
   "name": "nqs_time_evolution.ipynb",
   "provenance": []
  },
  "gpuClass": "standard",
  "kernelspec": {
   "display_name": "Python [conda env:imprs_school]",
   "language": "python",
   "name": "conda-env-imprs_school-py"
  },
  "language_info": {
   "codemirror_mode": {
    "name": "ipython",
    "version": 3
   },
   "file_extension": ".py",
   "mimetype": "text/x-python",
   "name": "python",
   "nbconvert_exporter": "python",
   "pygments_lexer": "ipython3",
   "version": "3.10.4"
  }
 },
 "nbformat": 4,
 "nbformat_minor": 5
}
